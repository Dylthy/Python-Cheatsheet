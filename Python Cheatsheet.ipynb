{
 "cells": [
  {
   "cell_type": "markdown",
   "source": [
    "Printing"
   ],
   "metadata": {}
  },
  {
   "cell_type": "code",
   "execution_count": 3,
   "source": [
    "a = 'Hello'\r\n",
    "b = 'World'\r\n",
    "\r\n",
    "print(a + b)"
   ],
   "outputs": [
    {
     "output_type": "stream",
     "name": "stdout",
     "text": [
      "HelloWorld\n"
     ]
    }
   ],
   "metadata": {}
  },
  {
   "cell_type": "code",
   "execution_count": 4,
   "source": [
    "def say_hello(recipient):\r\n",
    "    return (f'Hello, {recipient}!')"
   ],
   "outputs": [],
   "metadata": {}
  },
  {
   "cell_type": "code",
   "execution_count": 6,
   "source": [
    "say_hello('Tim')"
   ],
   "outputs": [
    {
     "output_type": "execute_result",
     "data": {
      "text/plain": [
       "'Hello, Tim!'"
      ]
     },
     "metadata": {},
     "execution_count": 6
    }
   ],
   "metadata": {}
  },
  {
   "cell_type": "code",
   "execution_count": 7,
   "source": [
    "lowered = a.lower()\r\n",
    "uppered = b.upper()\r\n",
    "\r\n",
    "print(lowered)\r\n",
    "print(uppered)"
   ],
   "outputs": [
    {
     "output_type": "stream",
     "name": "stdout",
     "text": [
      "hello\n",
      "WORLD\n"
     ]
    }
   ],
   "metadata": {}
  },
  {
   "cell_type": "markdown",
   "source": [
    "Numbers and Variables"
   ],
   "metadata": {}
  },
  {
   "cell_type": "code",
   "execution_count": 9,
   "source": [
    "num1 = 56\r\n",
    "num2 = 70\r\n",
    "\r\n",
    "num3 = num1 * num2\r\n",
    "num4 = num1 ** num1"
   ],
   "outputs": [],
   "metadata": {}
  },
  {
   "cell_type": "code",
   "execution_count": 10,
   "source": [
    "# Type Casting - When you have something of a certain data type, you can change it to another with type casting.\r\n",
    "print(num1, type(num1))\r\n",
    "str_num = str(num1)\r\n",
    "print(str_num, type(str_num))"
   ],
   "outputs": [
    {
     "output_type": "stream",
     "name": "stdout",
     "text": [
      "56 <class 'int'>\n",
      "56 <class 'str'>\n"
     ]
    }
   ],
   "metadata": {}
  },
  {
   "cell_type": "code",
   "execution_count": 1,
   "source": [
    "a = 6/3.5 # Actual value division\r\n",
    "b = 6//3.5 # Whole number division\r\n",
    "c = 1080 % 360 # Remainder only\r\n",
    "\r\n",
    "print(a)\r\n",
    "print(b)\r\n",
    "print(c)"
   ],
   "outputs": [
    {
     "output_type": "stream",
     "name": "stdout",
     "text": [
      "1.7142857142857142\n",
      "1.0\n",
      "0\n"
     ]
    }
   ],
   "metadata": {}
  },
  {
   "cell_type": "markdown",
   "source": [
    "Logical Operations, Conditions, and Functions"
   ],
   "metadata": {}
  },
  {
   "cell_type": "code",
   "execution_count": 2,
   "source": [
    "a = True\r\n",
    "b = False\r\n",
    "\r\n",
    "if a and b: # and = && in other programming languages such as Java\r\n",
    "    print(\"Geographic Information Systems\")\r\n",
    "elif a or b: # or = || in other programming languages such as Java\r\n",
    "    print(\"Management Information Systems\")"
   ],
   "outputs": [
    {
     "output_type": "stream",
     "name": "stdout",
     "text": [
      "Management Information Systems\n"
     ]
    }
   ],
   "metadata": {}
  },
  {
   "cell_type": "code",
   "execution_count": 8,
   "source": [
    "def give_me_sauce(sauce_string, num = 1):\r\n",
    "    if num == 1:\r\n",
    "        print(f'''You've been given {sauce_string} sauce.''')\r\n",
    "    else:\r\n",
    "        print(f'Holy cow, you want {num} {sauce_string} sauces?!')"
   ],
   "outputs": [],
   "metadata": {}
  },
  {
   "cell_type": "code",
   "execution_count": 9,
   "source": [
    "give_me_sauce('Honey Mustard')\r\n",
    "\r\n",
    "give_me_sauce('Honey Mustard', num = 500)"
   ],
   "outputs": [
    {
     "output_type": "stream",
     "name": "stdout",
     "text": [
      "You've been given Honey Mustard sauce.\n",
      "Holy cow, you want 500 Honey Mustard sauces?!\n"
     ]
    }
   ],
   "metadata": {}
  },
  {
   "cell_type": "markdown",
   "source": [
    "Loops"
   ],
   "metadata": {}
  },
  {
   "cell_type": "code",
   "execution_count": 10,
   "source": [
    "for x in range(100):\r\n",
    "    print(x * x)"
   ],
   "outputs": [
    {
     "output_type": "stream",
     "name": "stdout",
     "text": [
      "0\n",
      "1\n",
      "4\n",
      "9\n",
      "16\n",
      "25\n",
      "36\n",
      "49\n",
      "64\n",
      "81\n",
      "100\n",
      "121\n",
      "144\n",
      "169\n",
      "196\n",
      "225\n",
      "256\n",
      "289\n",
      "324\n",
      "361\n",
      "400\n",
      "441\n",
      "484\n",
      "529\n",
      "576\n",
      "625\n",
      "676\n",
      "729\n",
      "784\n",
      "841\n",
      "900\n",
      "961\n",
      "1024\n",
      "1089\n",
      "1156\n",
      "1225\n",
      "1296\n",
      "1369\n",
      "1444\n",
      "1521\n",
      "1600\n",
      "1681\n",
      "1764\n",
      "1849\n",
      "1936\n",
      "2025\n",
      "2116\n",
      "2209\n",
      "2304\n",
      "2401\n",
      "2500\n",
      "2601\n",
      "2704\n",
      "2809\n",
      "2916\n",
      "3025\n",
      "3136\n",
      "3249\n",
      "3364\n",
      "3481\n",
      "3600\n",
      "3721\n",
      "3844\n",
      "3969\n",
      "4096\n",
      "4225\n",
      "4356\n",
      "4489\n",
      "4624\n",
      "4761\n",
      "4900\n",
      "5041\n",
      "5184\n",
      "5329\n",
      "5476\n",
      "5625\n",
      "5776\n",
      "5929\n",
      "6084\n",
      "6241\n",
      "6400\n",
      "6561\n",
      "6724\n",
      "6889\n",
      "7056\n",
      "7225\n",
      "7396\n",
      "7569\n",
      "7744\n",
      "7921\n",
      "8100\n",
      "8281\n",
      "8464\n",
      "8649\n",
      "8836\n",
      "9025\n",
      "9216\n",
      "9409\n",
      "9604\n",
      "9801\n"
     ]
    }
   ],
   "metadata": {}
  },
  {
   "cell_type": "code",
   "execution_count": 11,
   "source": [
    "a = ['a', 'b', 'c', 'd', 'e', 'f'] # This is an array.\r\n",
    "\r\n",
    "for alpha in enumerate(a): # This puts numbers into the array.\r\n",
    "    print(alpha)"
   ],
   "outputs": [
    {
     "output_type": "stream",
     "name": "stdout",
     "text": [
      "(0, 'a')\n",
      "(1, 'b')\n",
      "(2, 'c')\n",
      "(3, 'd')\n",
      "(4, 'e')\n",
      "(5, 'f')\n"
     ]
    }
   ],
   "metadata": {}
  },
  {
   "cell_type": "code",
   "execution_count": 13,
   "source": [
    "a = [1,2,3,4,5,6,7,8,9,10,11,12]\r\n",
    "i = 0\r\n",
    "\r\n",
    "while i < len(a):\r\n",
    "    print (a[i])\r\n",
    "    i = i + 3"
   ],
   "outputs": [
    {
     "output_type": "stream",
     "name": "stdout",
     "text": [
      "1\n",
      "4\n",
      "7\n",
      "10\n"
     ]
    }
   ],
   "metadata": {}
  },
  {
   "cell_type": "markdown",
   "source": [
    "Dictionaries"
   ],
   "metadata": {}
  },
  {
   "cell_type": "code",
   "execution_count": 14,
   "source": [
    "empty_dict = {}\r\n",
    "grades = {'John':'A', 'Emily':'A+', 'Betty':'B', 'Mike':'C', 'Ashley':'A'}\r\n",
    "print(grades['Betty'])"
   ],
   "outputs": [
    {
     "output_type": "stream",
     "name": "stdout",
     "text": [
      "B\n"
     ]
    }
   ],
   "metadata": {}
  }
 ],
 "metadata": {
  "kernelspec": {
   "name": "python3",
   "display_name": "Python 3.8.8 64-bit ('base': conda)"
  },
  "language_info": {
   "codemirror_mode": {
    "name": "ipython",
    "version": 3
   },
   "file_extension": ".py",
   "mimetype": "text/x-python",
   "name": "python",
   "nbconvert_exporter": "python",
   "pygments_lexer": "ipython3",
   "version": "3.8.8"
  },
  "interpreter": {
   "hash": "edae497875cf343e98bd0835d14b73e1c27f8c6a9538d5d3bc38fe8f57b2a93b"
  }
 },
 "nbformat": 4,
 "nbformat_minor": 5
}